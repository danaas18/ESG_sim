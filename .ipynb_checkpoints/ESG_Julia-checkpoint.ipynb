{
 "cells": [
  {
   "cell_type": "markdown",
   "metadata": {},
   "source": [
    "This is a redo of my Electricity Strategy Game model I originally built in R for MBA 212 in Spring 2016. My goal is to first replicate the outputs I generated in R, and then to improve upon that model. Improvements I'd like to focus on include: more compact code, simulation of each permit price point under cap and trade, useful graphs to show potential outcomes, calculation of residual demand curves for each portfolio (or generator). \n",
    "\n",
    "\n",
    "near-term to-do:\n",
    "Add Distributions package when I have the internet\n",
    "build function to clear market and generate dataframe\n",
    "build a split-apply-combine type function to develop a reports\n",
    "\n",
    "long(er) term to-do: \n",
    "calculate residual demand curves for each portfolio or generator. \n",
    "Re-dispatch model based on expected market power bids. \n",
    "Recalculate user portfolio's expected residual demand curve\n",
    "add transmission constraint functionality\n",
    "\n",
    "\n"
   ]
  },
  {
   "cell_type": "markdown",
   "metadata": {},
   "source": [
    "Define user assumptions: price of carbon, quantile"
   ]
  },
  {
   "cell_type": "code",
   "execution_count": 12,
   "metadata": {
    "collapsed": false
   },
   "outputs": [
    {
     "data": {
      "text/plain": [
       "0.5"
      ]
     },
     "execution_count": 12,
     "metadata": {},
     "output_type": "execute_result"
    }
   ],
   "source": [
    "CO2_cost = 10\n",
    "quantile = .5"
   ]
  },
  {
   "cell_type": "markdown",
   "metadata": {},
   "source": [
    "Load dataframes package. This allows me to conduct Pandas type operations. Also loading Distributions package and setting seed. Define number of draws from distribution"
   ]
  },
  {
   "cell_type": "code",
   "execution_count": 13,
   "metadata": {
    "collapsed": false
   },
   "outputs": [
    {
     "data": {
      "text/plain": [
       "1000"
      ]
     },
     "execution_count": 13,
     "metadata": {},
     "output_type": "execute_result"
    }
   ],
   "source": [
    "using DataFrames\n",
    "using Distributions\n",
    "srand(246)\n",
    "\n",
    "draws = 1000\n"
   ]
  },
  {
   "cell_type": "markdown",
   "metadata": {},
   "source": [
    "Read the file, delete the MC_tot variable, create new MC variable, sort in order and calculate cumulative capacity"
   ]
  },
  {
   "cell_type": "code",
   "execution_count": 14,
   "metadata": {
    "collapsed": false
   },
   "outputs": [
    {
     "data": {
      "text/html": [
       "<table class=\"data-frame\"><tr><th></th><th>UNIT_NAME</th><th>Portf</th><th>Location</th><th>Fuel</th><th>Capacity</th><th>Heat_Rate</th><th>Fuel_Price</th><th>Fuel_Cost</th><th>Var_O_M</th><th>MC_part</th><th>CO2e</th><th>fixed</th><th>CO2cost</th><th>MC</th><th>cumu</th></tr><tr><th>1</th><td>FOUR CORNERS</td><td>Big Coal</td><td>South</td><td>Coal</td><td>1900</td><td>11.67</td><td>3.0</td><td>35.0</td><td>1.5</td><td>36.5</td><td>1.1</td><td>8000</td><td>33.0</td><td>0.0</td><td>1900</td></tr><tr><th>2</th><td>ALAMITOS 7</td><td>Big Coal</td><td>South</td><td>Gas</td><td>250</td><td>16.05</td><td>4.5</td><td>72.22</td><td>1.5</td><td>73.72</td><td>0.85</td><td>0</td><td>25.5</td><td>0.5</td><td>2150</td></tr><tr><th>3</th><td>HUNTINGTON BEACH 1&amp;2</td><td>Big Coal</td><td>South</td><td>Gas</td><td>300</td><td>8.67</td><td>4.5</td><td>39.0</td><td>1.5</td><td>40.5</td><td>0.46</td><td>2000</td><td>13.8</td><td>11.5</td><td>2450</td></tr><tr><th>4</th><td>HUNTINGTON BEACH 5</td><td>Big Coal</td><td>South</td><td>Gas</td><td>150</td><td>14.44</td><td>4.5</td><td>65.0</td><td>1.5</td><td>66.5</td><td>0.77</td><td>2000</td><td>23.1</td><td>36.667</td><td>2600</td></tr><tr><th>5</th><td>REDONDO 5&amp;6</td><td>Big Coal</td><td>South</td><td>Gas</td><td>350</td><td>8.99</td><td>4.5</td><td>40.44</td><td>1.5</td><td>41.94</td><td>0.48</td><td>3000</td><td>14.4</td><td>36.667</td><td>2950</td></tr><tr><th>6</th><td>REDONDO 7&amp;8</td><td>Big Coal</td><td>South</td><td>Gas</td><td>950</td><td>8.99</td><td>4.5</td><td>40.44</td><td>1.5</td><td>41.94</td><td>0.48</td><td>5000</td><td>14.4</td><td>42.157</td><td>3900</td></tr><tr><th>7</th><td>EL SEGUNDO 1&amp;2</td><td>Big Gas</td><td>South</td><td>Gas</td><td>400</td><td>9.63</td><td>4.5</td><td>43.33</td><td>1.5</td><td>44.83</td><td>0.51</td><td>1000</td><td>15.3</td><td>42.157</td><td>4300</td></tr><tr><th>8</th><td>EL SEGUNDO 3&amp;4</td><td>Big Gas</td><td>South</td><td>Gas</td><td>650</td><td>8.83</td><td>4.5</td><td>39.72</td><td>1.5</td><td>41.22</td><td>0.47</td><td>1000</td><td>14.1</td><td>43.868</td><td>4950</td></tr><tr><th>9</th><td>LONG BEACH</td><td>Big Gas</td><td>South</td><td>Gas</td><td>550</td><td>11.56</td><td>4.5</td><td>52.0</td><td>0.5</td><td>52.5</td><td>0.61</td><td>0</td><td>18.3</td><td>43.868</td><td>5500</td></tr><tr><th>10</th><td>NORTH ISLAND</td><td>Big Gas</td><td>South</td><td>Gas</td><td>150</td><td>14.44</td><td>4.5</td><td>65.0</td><td>0.5</td><td>65.5</td><td>0.77</td><td>0</td><td>23.1</td><td>44.855000000000004</td><td>5650</td></tr><tr><th>11</th><td>ENCINA</td><td>Big Gas</td><td>South</td><td>Gas</td><td>950</td><td>9.15</td><td>4.5</td><td>41.17</td><td>0.5</td><td>41.67</td><td>0.49</td><td>1000</td><td>14.7</td><td>44.868</td><td>6600</td></tr><tr><th>12</th><td>KEARNY</td><td>Big Gas</td><td>South</td><td>Gas</td><td>200</td><td>19.9</td><td>4.5</td><td>89.56</td><td>0.5</td><td>90.06</td><td>1.06</td><td>0</td><td>31.8</td><td>45.848</td><td>6800</td></tr><tr><th>13</th><td>SOUTH BAY</td><td>Big Gas</td><td>South</td><td>Gas</td><td>700</td><td>9.63</td><td>4.5</td><td>43.33</td><td>0.5</td><td>43.83</td><td>0.51</td><td>500</td><td>15.3</td><td>46.848</td><td>7500</td></tr><tr><th>14</th><td>MORRO BAY 1&amp;2</td><td>Bay View</td><td>North</td><td>Gas</td><td>335</td><td>8.51</td><td>4.5</td><td>38.28</td><td>0.5</td><td>38.78</td><td>0.45</td><td>2000</td><td>13.5</td><td>47.847</td><td>7835</td></tr><tr><th>15</th><td>MORRO BAY 3&amp;4</td><td>Bay View</td><td>North</td><td>Gas</td><td>665</td><td>8.02</td><td>4.5</td><td>36.11</td><td>0.5</td><td>36.61</td><td>0.43</td><td>4000</td><td>12.9</td><td>47.852</td><td>8500</td></tr><tr><th>16</th><td>MOSS LANDING 6</td><td>Bay View</td><td>North</td><td>Gas</td><td>750</td><td>6.9</td><td>4.5</td><td>31.06</td><td>1.5</td><td>32.56</td><td>0.37</td><td>8000</td><td>11.1</td><td>48.852</td><td>9250</td></tr><tr><th>17</th><td>MOSS LANDING 7</td><td>Bay View</td><td>North</td><td>Gas</td><td>750</td><td>6.9</td><td>4.5</td><td>31.06</td><td>1.5</td><td>32.56</td><td>0.37</td><td>8000</td><td>11.1</td><td>48.852</td><td>10000</td></tr><tr><th>18</th><td>OAKLAND</td><td>Bay View</td><td>North</td><td>Gas</td><td>150</td><td>13.48</td><td>4.5</td><td>60.67</td><td>0.5</td><td>61.17</td><td>0.72</td><td>0</td><td>21.6</td><td>48.873000000000005</td><td>10150</td></tr><tr><th>19</th><td>COOLWATER</td><td>Beachfront</td><td>South</td><td>Gas</td><td>650</td><td>9.31</td><td>4.5</td><td>41.89</td><td>0.5</td><td>42.39</td><td>0.49</td><td>2000</td><td>14.7</td><td>49.593</td><td>10800</td></tr><tr><th>20</th><td>ETIWANDA 1-4</td><td>Beachfront</td><td>South</td><td>Gas</td><td>850</td><td>9.15</td><td>4.5</td><td>41.17</td><td>1.5</td><td>42.67</td><td>0.49</td><td>4000</td><td>14.7</td><td>49.873000000000005</td><td>11650</td></tr><tr><th>21</th><td>ETIWANDA 5</td><td>Beachfront</td><td>South</td><td>Gas</td><td>150</td><td>13.64</td><td>4.5</td><td>61.39</td><td>1.5</td><td>62.89</td><td>0.72</td><td>1000</td><td>21.6</td><td>51.632999999999996</td><td>11800</td></tr><tr><th>22</th><td>ELLWOOD</td><td>Beachfront</td><td>South</td><td>Gas</td><td>300</td><td>16.69</td><td>4.5</td><td>75.11</td><td>0.5</td><td>75.61</td><td>0.89</td><td>0</td><td>26.7</td><td>52.632999999999996</td><td>12100</td></tr><tr><th>23</th><td>MANDALAY 1&amp;2</td><td>Beachfront</td><td>South</td><td>Gas</td><td>300</td><td>8.35</td><td>4.5</td><td>37.56</td><td>1.5</td><td>39.06</td><td>0.44</td><td>1000</td><td>13.2</td><td>56.515</td><td>12400</td></tr><tr><th>24</th><td>MANDALAY 3</td><td>Beachfront</td><td>South</td><td>Gas</td><td>150</td><td>11.23</td><td>4.5</td><td>50.56</td><td>1.5</td><td>52.06</td><td>0.6</td><td>1000</td><td>18.0</td><td>58.578</td><td>12550</td></tr><tr><th>25</th><td>ORMOND BEACH 1</td><td>Beachfront</td><td>South</td><td>Gas</td><td>700</td><td>8.35</td><td>4.5</td><td>37.56</td><td>0.5</td><td>38.06</td><td>0.44</td><td>7000</td><td>13.2</td><td>59.702</td><td>13250</td></tr><tr><th>26</th><td>ORMOND BEACH 2</td><td>Beachfront</td><td>South</td><td>Gas</td><td>700</td><td>8.35</td><td>4.5</td><td>37.56</td><td>0.5</td><td>38.06</td><td>0.44</td><td>7000</td><td>13.2</td><td>61.007999999999996</td><td>13950</td></tr><tr><th>27</th><td>PITTSBURGH 1-4</td><td>East Bay</td><td>North</td><td>Gas</td><td>650</td><td>8.99</td><td>4.5</td><td>40.44</td><td>0.5</td><td>40.94</td><td>0.48</td><td>2500</td><td>14.4</td><td>61.007999999999996</td><td>14600</td></tr><tr><th>28</th><td>PITTSBURGH 5&amp;6</td><td>East Bay</td><td>North</td><td>Gas</td><td>650</td><td>8.02</td><td>4.5</td><td>36.11</td><td>0.5</td><td>36.61</td><td>0.43</td><td>2500</td><td>12.9</td><td>62.86</td><td>15250</td></tr><tr><th>29</th><td>PITTSBURGH 7</td><td>East Bay</td><td>North</td><td>Gas</td><td>700</td><td>13.16</td><td>4.5</td><td>59.22</td><td>0.5</td><td>59.72</td><td>0.7</td><td>4000</td><td>21.0</td><td>63.663</td><td>15950</td></tr><tr><th>30</th><td>CONTRA COSTA 4&amp;5</td><td>East Bay</td><td>North</td><td>Gas</td><td>150</td><td>12.84</td><td>4.5</td><td>57.78</td><td>0.5</td><td>58.28</td><td>0.68</td><td>1000</td><td>20.4</td><td>65.847</td><td>16100</td></tr><tr><th>&vellip;</th><td>&vellip;</td><td>&vellip;</td><td>&vellip;</td><td>&vellip;</td><td>&vellip;</td><td>&vellip;</td><td>&vellip;</td><td>&vellip;</td><td>&vellip;</td><td>&vellip;</td><td>&vellip;</td><td>&vellip;</td><td>&vellip;</td><td>&vellip;</td><td>&vellip;</td></tr></table>"
      ],
      "text/plain": [
       "42×15 DataFrames.DataFrame\n",
       "│ Row │ UNIT_NAME              │ Portf          │ Location │ Fuel      │\n",
       "├─────┼────────────────────────┼────────────────┼──────────┼───────────┤\n",
       "│ 1   │ \"FOUR CORNERS\"         │ \"Big Coal\"     │ \"South\"  │ \"Coal\"    │\n",
       "│ 2   │ \"ALAMITOS 7\"           │ \"Big Coal\"     │ \"South\"  │ \"Gas\"     │\n",
       "│ 3   │ \"HUNTINGTON BEACH 1&2\" │ \"Big Coal\"     │ \"South\"  │ \"Gas\"     │\n",
       "│ 4   │ \"HUNTINGTON BEACH 5\"   │ \"Big Coal\"     │ \"South\"  │ \"Gas\"     │\n",
       "│ 5   │ \"REDONDO 5&6\"          │ \"Big Coal\"     │ \"South\"  │ \"Gas\"     │\n",
       "│ 6   │ \"REDONDO 7&8\"          │ \"Big Coal\"     │ \"South\"  │ \"Gas\"     │\n",
       "│ 7   │ \"EL SEGUNDO 1&2\"       │ \"Big Gas\"      │ \"South\"  │ \"Gas\"     │\n",
       "│ 8   │ \"EL SEGUNDO 3&4\"       │ \"Big Gas\"      │ \"South\"  │ \"Gas\"     │\n",
       "│ 9   │ \"LONG BEACH\"           │ \"Big Gas\"      │ \"South\"  │ \"Gas\"     │\n",
       "│ 10  │ \"NORTH ISLAND\"         │ \"Big Gas\"      │ \"South\"  │ \"Gas\"     │\n",
       "│ 11  │ \"ENCINA\"               │ \"Big Gas\"      │ \"South\"  │ \"Gas\"     │\n",
       "⋮\n",
       "│ 31  │ \"CONTRA COSTA 6&7\"     │ \"East Bay\"     │ \"North\"  │ \"Gas\"     │\n",
       "│ 32  │ \"POTRERO HILL\"         │ \"East Bay\"     │ \"North\"  │ \"Gas\"     │\n",
       "│ 33  │ \"BIG CREEK\"            │ \"Old Timers\"   │ \"South\"  │ \"Hydro\"   │\n",
       "│ 34  │ \"MOHAVE 1\"             │ \"Old Timers\"   │ \"South\"  │ \"Coal\"    │\n",
       "│ 35  │ \"MOHAVE 2\"             │ \"Old Timers\"   │ \"South\"  │ \"Coal\"    │\n",
       "│ 36  │ \"HIGHGROVE\"            │ \"Old Timers\"   │ \"South\"  │ \"Gas\"     │\n",
       "│ 37  │ \"SAN BERNADINO\"        │ \"Old Timers\"   │ \"South\"  │ \"Gas\"     │\n",
       "│ 38  │ \"HUMBOLDT\"             │ \"Fossil Light\" │ \"North\"  │ \"Gas\"     │\n",
       "│ 39  │ \"HELMS\"                │ \"Fossil Light\" │ \"North\"  │ \"Hydro\"   │\n",
       "│ 40  │ \"HUNTERS POINT 1&2\"    │ \"Fossil Light\" │ \"North\"  │ \"Gas\"     │\n",
       "│ 41  │ \"HUNTERS POINT 4\"      │ \"Fossil Light\" │ \"North\"  │ \"Gas\"     │\n",
       "│ 42  │ \"DIABLO CANYON 1\"      │ \"Fossil Light\" │ \"North\"  │ \"Nuclear\" │\n",
       "\n",
       "│ Row │ Capacity │ Heat_Rate │ Fuel_Price │ Fuel_Cost │ Var_O_M │ MC_part │\n",
       "├─────┼──────────┼───────────┼────────────┼───────────┼─────────┼─────────┤\n",
       "│ 1   │ 1900     │ 11.67     │ 3.0        │ 35.0      │ 1.5     │ 36.5    │\n",
       "│ 2   │ 250      │ 16.05     │ 4.5        │ 72.22     │ 1.5     │ 73.72   │\n",
       "│ 3   │ 300      │ 8.67      │ 4.5        │ 39.0      │ 1.5     │ 40.5    │\n",
       "│ 4   │ 150      │ 14.44     │ 4.5        │ 65.0      │ 1.5     │ 66.5    │\n",
       "│ 5   │ 350      │ 8.99      │ 4.5        │ 40.44     │ 1.5     │ 41.94   │\n",
       "│ 6   │ 950      │ 8.99      │ 4.5        │ 40.44     │ 1.5     │ 41.94   │\n",
       "│ 7   │ 400      │ 9.63      │ 4.5        │ 43.33     │ 1.5     │ 44.83   │\n",
       "│ 8   │ 650      │ 8.83      │ 4.5        │ 39.72     │ 1.5     │ 41.22   │\n",
       "│ 9   │ 550      │ 11.56     │ 4.5        │ 52.0      │ 0.5     │ 52.5    │\n",
       "│ 10  │ 150      │ 14.44     │ 4.5        │ 65.0      │ 0.5     │ 65.5    │\n",
       "│ 11  │ 950      │ 9.15      │ 4.5        │ 41.17     │ 0.5     │ 41.67   │\n",
       "⋮\n",
       "│ 31  │ 700      │ 8.67      │ 4.5        │ 39.0      │ 0.5     │ 39.5    │\n",
       "│ 32  │ 150      │ 15.41     │ 4.5        │ 69.33     │ 0.5     │ 69.83   │\n",
       "│ 33  │ 1000     │ 0.0       │ 0.0        │ 0.0       │ 0.0     │ 0.0     │\n",
       "│ 34  │ 750      │ 10.0      │ 3.0        │ 30.0      │ 4.5     │ 34.5    │\n",
       "│ 35  │ 750      │ 10.0      │ 3.0        │ 30.0      │ 4.5     │ 34.5    │\n",
       "│ 36  │ 150      │ 10.91     │ 4.5        │ 49.11     │ 0.5     │ 49.61   │\n",
       "│ 37  │ 100      │ 11.88     │ 4.5        │ 53.44     │ 0.5     │ 53.94   │\n",
       "│ 38  │ 150      │ 10.43     │ 4.5        │ 46.94     │ 0.5     │ 47.44   │\n",
       "│ 39  │ 800      │ 0.0       │ 0.0        │ 0.0       │ 0.5     │ 0.5     │\n",
       "│ 40  │ 150      │ 10.59     │ 4.5        │ 47.67     │ 1.5     │ 49.17   │\n",
       "│ 41  │ 250      │ 16.53     │ 4.5        │ 74.39     │ 1.5     │ 75.89   │\n",
       "│ 42  │ 1000     │ 1.0       │ 7.5        │ 7.5       │ 4.0     │ 11.5    │\n",
       "\n",
       "│ Row │ CO2e │ fixed │ CO2cost │ MC      │ cumu  │\n",
       "├─────┼──────┼───────┼─────────┼─────────┼───────┤\n",
       "│ 1   │ 1.1  │ 8000  │ 33.0    │ 0.0     │ 1900  │\n",
       "│ 2   │ 0.85 │ 0     │ 25.5    │ 0.5     │ 2150  │\n",
       "│ 3   │ 0.46 │ 2000  │ 13.8    │ 11.5    │ 2450  │\n",
       "│ 4   │ 0.77 │ 2000  │ 23.1    │ 36.667  │ 2600  │\n",
       "│ 5   │ 0.48 │ 3000  │ 14.4    │ 36.667  │ 2950  │\n",
       "│ 6   │ 0.48 │ 5000  │ 14.4    │ 42.157  │ 3900  │\n",
       "│ 7   │ 0.51 │ 1000  │ 15.3    │ 42.157  │ 4300  │\n",
       "│ 8   │ 0.47 │ 1000  │ 14.1    │ 43.868  │ 4950  │\n",
       "│ 9   │ 0.61 │ 0     │ 18.3    │ 43.868  │ 5500  │\n",
       "│ 10  │ 0.77 │ 0     │ 23.1    │ 44.855  │ 5650  │\n",
       "│ 11  │ 0.49 │ 1000  │ 14.7    │ 44.868  │ 6600  │\n",
       "⋮\n",
       "│ 31  │ 0.46 │ 6000  │ 13.8    │ 72.152  │ 16800 │\n",
       "│ 32  │ 0.82 │ 0     │ 24.6    │ 72.8    │ 16950 │\n",
       "│ 33  │ 0.0  │ 15000 │ 0.0     │ 74.42   │ 17950 │\n",
       "│ 34  │ 0.94 │ 15000 │ 28.2    │ 76.722  │ 18700 │\n",
       "│ 35  │ 0.94 │ 15000 │ 28.2    │ 78.442  │ 19450 │\n",
       "│ 36  │ 0.58 │ 0     │ 17.4    │ 83.287  │ 19600 │\n",
       "│ 37  │ 0.63 │ 0     │ 18.9    │ 84.287  │ 19700 │\n",
       "│ 38  │ 0.55 │ 0     │ 16.5    │ 90.002  │ 19850 │\n",
       "│ 39  │ 0.0  │ 15000 │ 0.0     │ 95.395  │ 20650 │\n",
       "│ 40  │ 0.56 │ 1000  │ 16.8    │ 99.122  │ 20800 │\n",
       "│ 41  │ 0.88 │ 1000  │ 26.4    │ 99.373  │ 21050 │\n",
       "│ 42  │ 0.0  │ 20000 │ 0.0     │ 123.768 │ 22050 │"
      ]
     },
     "execution_count": 14,
     "metadata": {},
     "output_type": "execute_result"
    }
   ],
   "source": [
    "port = readtable(\"/home/dan/SpiderOak Hive/EEM/ESGPortfolios_forR.csv\")\n",
    "port = delete!(port,:MC_tot)\n",
    "port[:MC] = port[:MC_part] .+ (port[:CO2e] .* port[:CO2cost]) \n",
    "sort!(port[:MC])\n",
    "port[:cumu] = cumsum(port[:Capacity])\n",
    "\n",
    "port"
   ]
  },
  {
   "cell_type": "markdown",
   "metadata": {},
   "source": [
    "Define demand curves for each hour. Intercepts and slopes\n",
    "\n",
    "Note: I might think about making these an object that can be used in a function"
   ]
  },
  {
   "cell_type": "code",
   "execution_count": 15,
   "metadata": {
    "collapsed": false
   },
   "outputs": [
    {
     "data": {
      "text/plain": [
       "4-element Array{Float64,1}:\n",
       " -4.37\n",
       " -5.38\n",
       " -5.03\n",
       " -5.08"
      ]
     },
     "execution_count": 15,
     "metadata": {},
     "output_type": "execute_result"
    }
   ],
   "source": [
    "D1_intN = [4184, 3842, 7986, 5209]\n",
    "D1_intS = [7176, 9874, 9901, 9760]\n",
    "D1_intT = D1_intN + D1_intS\n",
    "\n",
    "D1_mN = [-2.34, -2.58, -2.54, -2.67]\n",
    "D1_mS = [-2.03, -2.80, -2.49, -2.41]\n",
    "D1_mT = D1_mN + D1_mS"
   ]
  },
  {
   "cell_type": "markdown",
   "metadata": {},
   "source": [
    "calculate distribution of y-intercepts based on rnorm\n",
    "\n",
    "calculate demand curves\n",
    "\n",
    "note: Ideally, one could add any number of demand functions for n hours. I would like to this code to result in a dataframe with the number of columns equal to the length of the demand function vectors, and rows equal to the number of draws from each distribution. "
   ]
  },
  {
   "cell_type": "code",
   "execution_count": 16,
   "metadata": {
    "collapsed": false
   },
   "outputs": [
    {
     "data": {
      "text/plain": [
       "1000-element Array{Float64,1}:\n",
       " 47343.0\n",
       " 52096.5\n",
       " 51024.0\n",
       " 52020.3\n",
       " 52500.2\n",
       " 51023.4\n",
       " 49328.0\n",
       " 50412.6\n",
       " 51214.2\n",
       " 51530.4\n",
       " 51708.0\n",
       " 47439.7\n",
       " 50172.8\n",
       "     ⋮  \n",
       " 49899.5\n",
       " 47454.2\n",
       " 47498.4\n",
       " 52078.9\n",
       " 50750.7\n",
       " 47711.9\n",
       " 51982.3\n",
       " 48076.6\n",
       " 49683.9\n",
       " 48569.0\n",
       " 48787.5\n",
       " 47920.3"
      ]
     },
     "execution_count": 16,
     "metadata": {},
     "output_type": "execute_result"
    }
   ],
   "source": [
    "x_intercepts = rand(Normal(D1_intT[1], D1_intT[1] * .03), draws)\n",
    "y_intercepts = x_intercepts .* -D1_mT[1]"
   ]
  },
  {
   "cell_type": "code",
   "execution_count": 27,
   "metadata": {
    "collapsed": false
   },
   "outputs": [
    {
     "data": {
      "text/plain": [
       "1000-element Array{Float64,1}:\n",
       " 47343.0\n",
       " 52096.5\n",
       " 51024.0\n",
       " 52020.3\n",
       " 52500.2\n",
       " 51023.4\n",
       " 49328.0\n",
       " 50412.6\n",
       " 51214.2\n",
       " 51530.4\n",
       " 51708.0\n",
       " 47439.7\n",
       " 50172.8\n",
       "     ⋮  \n",
       " 49899.5\n",
       " 47454.2\n",
       " 47498.4\n",
       " 52078.9\n",
       " 50750.7\n",
       " 47711.9\n",
       " 51982.3\n",
       " 48076.6\n",
       " 49683.9\n",
       " 48569.0\n",
       " 48787.5\n",
       " 47920.3"
      ]
     },
     "execution_count": 27,
     "metadata": {},
     "output_type": "execute_result"
    }
   ],
   "source": [
    "y_intercepts"
   ]
  },
  {
   "cell_type": "markdown",
   "metadata": {},
   "source": [
    "Calculating a demand curve for each intercepts draw. Calculates a price for each quanity, with Q equal to the index of each array."
   ]
  },
  {
   "cell_type": "code",
   "execution_count": 57,
   "metadata": {
    "collapsed": false
   },
   "outputs": [
    {
     "data": {
      "text/plain": [
       "calc_demand (generic function with 1 method)"
      ]
     },
     "execution_count": 57,
     "metadata": {},
     "output_type": "execute_result"
    }
   ],
   "source": [
    "prices = 1:maximum(port[:cumu])\n",
    "quantities = []\n",
    "\n",
    "function calc_demand(x)\n",
    "    for i in prices\n",
    "        q2 = x + D1_mT[1] * prices[i]\n",
    "        push![quantities,q2]\n",
    "    end\n",
    "    return(quantities)\n",
    "end\n",
    "    \n",
    "\n"
   ]
  },
  {
   "cell_type": "code",
   "execution_count": 59,
   "metadata": {
    "collapsed": false
   },
   "outputs": [
    {
     "ename": "LoadError",
     "evalue": "LoadError: MethodError: `getindex` has no method matching getindex(::Function, ::Array{Any,1}, ::Float64)\nwhile loading In[59], in expression starting on line 1",
     "output_type": "error",
     "traceback": [
      "LoadError: MethodError: `getindex` has no method matching getindex(::Function, ::Array{Any,1}, ::Float64)\nwhile loading In[59], in expression starting on line 1",
      "",
      " in calc_demand at In[57]:7"
     ]
    }
   ],
   "source": [
    "calc_demand(10000)\n"
   ]
  },
  {
   "cell_type": "code",
   "execution_count": 38,
   "metadata": {
    "collapsed": false
   },
   "outputs": [
    {
     "data": {
      "text/plain": [
       "1"
      ]
     },
     "execution_count": 38,
     "metadata": {},
     "output_type": "execute_result"
    }
   ],
   "source": [
    "ndims(yp)"
   ]
  },
  {
   "cell_type": "code",
   "execution_count": 29,
   "metadata": {
    "collapsed": false
   },
   "outputs": [
    {
     "data": {
      "text/plain": [
       "1000-element Array{FloatRange{Float64},1}:\n",
       " 51526.95751413962:1.0:51525.95751413962  \n",
       " 56280.49572528169:1.0:56279.49572528169  \n",
       " 55207.95044433067:1.0:55206.95044433067  \n",
       " 56204.34295232803:1.0:56203.34295232803  \n",
       " 56684.244617869015:1.0:56683.244617869015\n",
       " 55207.43462846866:1.0:55206.43462846866  \n",
       " 53511.99520212296:1.0:53510.99520212296  \n",
       " 54596.557503191856:1.0:54595.557503191856\n",
       " 55398.17671886729:1.0:55397.17671886729  \n",
       " 55714.434484750855:1.0:55713.434484750855\n",
       " 55891.97710722731:1.0:55890.97710722731  \n",
       " 51623.74753381693:1.0:51622.74753381693  \n",
       " 54356.824162315075:1.0:54355.824162315075\n",
       " ⋮                                        \n",
       " 54083.486629266175:1.0:54082.486629266175\n",
       " 51638.245289331055:1.0:51637.245289331055\n",
       " 51682.382558724945:1.0:51681.382558724945\n",
       " 56262.889951780344:1.0:56261.889951780344\n",
       " 54934.65075612416:1.0:54933.65075612416  \n",
       " 51895.942180987215:1.0:51894.942180987215\n",
       " 56166.31348962027:1.0:56165.31348962027  \n",
       " 52260.58717650522:1.0:52259.58717650522  \n",
       " 53867.883104420674:1.0:53866.883104420674\n",
       " 52753.01898717617:1.0:52752.01898717617  \n",
       " 52971.45582252524:1.0:52970.45582252524  \n",
       " 52104.262561249154:1.0:52103.262561249154"
      ]
     },
     "execution_count": 29,
     "metadata": {},
     "output_type": "execute_result"
    }
   ],
   "source": [
    "demand_curve = map(x -> x + D1_intN[1] * 1:maximum(port[:cumu]), y_intercepts)"
   ]
  },
  {
   "cell_type": "markdown",
   "metadata": {},
   "source": [
    "build a function that calcuates marginal unit by quantile, dispatches units, calculates net marginal revenues, and emissions\n",
    "\n",
    "place clearing quantities and prices into dataframes, then concatenate "
   ]
  },
  {
   "cell_type": "code",
   "execution_count": 34,
   "metadata": {
    "collapsed": false
   },
   "outputs": [
    {
     "data": {
      "text/plain": [
       "1000-element Array{FloatRange{Float64},1}:\n",
       " 51526.95751413962:1.0:51525.95751413962  \n",
       " 56280.49572528169:1.0:56279.49572528169  \n",
       " 55207.95044433067:1.0:55206.95044433067  \n",
       " 56204.34295232803:1.0:56203.34295232803  \n",
       " 56684.244617869015:1.0:56683.244617869015\n",
       " 55207.43462846866:1.0:55206.43462846866  \n",
       " 53511.99520212296:1.0:53510.99520212296  \n",
       " 54596.557503191856:1.0:54595.557503191856\n",
       " 55398.17671886729:1.0:55397.17671886729  \n",
       " 55714.434484750855:1.0:55713.434484750855\n",
       " 55891.97710722731:1.0:55890.97710722731  \n",
       " 51623.74753381693:1.0:51622.74753381693  \n",
       " 54356.824162315075:1.0:54355.824162315075\n",
       " ⋮                                        \n",
       " 54083.486629266175:1.0:54082.486629266175\n",
       " 51638.245289331055:1.0:51637.245289331055\n",
       " 51682.382558724945:1.0:51681.382558724945\n",
       " 56262.889951780344:1.0:56261.889951780344\n",
       " 54934.65075612416:1.0:54933.65075612416  \n",
       " 51895.942180987215:1.0:51894.942180987215\n",
       " 56166.31348962027:1.0:56165.31348962027  \n",
       " 52260.58717650522:1.0:52259.58717650522  \n",
       " 53867.883104420674:1.0:53866.883104420674\n",
       " 52753.01898717617:1.0:52752.01898717617  \n",
       " 52971.45582252524:1.0:52970.45582252524  \n",
       " 52104.262561249154:1.0:52103.262561249154"
      ]
     },
     "execution_count": 34,
     "metadata": {},
     "output_type": "execute_result"
    }
   ],
   "source": [
    "demand_curve"
   ]
  },
  {
   "cell_type": "code",
   "execution_count": null,
   "metadata": {
    "collapsed": true
   },
   "outputs": [],
   "source": []
  }
 ],
 "metadata": {
  "kernelspec": {
   "display_name": "Julia 0.4.5",
   "language": "julia",
   "name": "julia-0.4"
  },
  "language_info": {
   "file_extension": ".jl",
   "mimetype": "application/julia",
   "name": "julia",
   "version": "0.4.5"
  }
 },
 "nbformat": 4,
 "nbformat_minor": 0
}
